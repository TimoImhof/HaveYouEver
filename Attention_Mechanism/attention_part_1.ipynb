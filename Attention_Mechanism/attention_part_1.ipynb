{
 "cells": [
  {
   "cell_type": "markdown",
   "metadata": {},
   "source": [
    "## Part 1: Introduction\n",
    "\n",
    "In this series I am deriving the self-attention mechansim introduced in the paper [Attention Is All You Need](https://arxiv.org/abs/1706.03762).\n",
    "Attention as communication mechanism builds the performance foundation for transformer models and is therefore at the heart of modern deep learning.\n",
    "To this end I think every good machine learning engineer (What I am trying to become :D) should have derived/programmed attention from scratch at least once.\n",
    "\n",
    "A very useful source for this is in my opinion the [build-GPT video](https://www.youtube.com/watch?v=kCc8FmEb1nY) from Andrej Karpathy, \n",
    "who delivers a great intutition about what makes attention so special.\n",
    "So this series is essentially me following the steps of the tutorial and adding some own comments and stylistic elements here and there.\n"
   ]
  },
  {
   "cell_type": "markdown",
   "metadata": {},
   "source": [
    "### What makes attention special?\n",
    "\n",
    "Attention mechanisms solve a fundamental problem in sequence modeling: how can we effectively capture relationships between elements in a sequence, regardless of their distance? While traditional approaches like RNNs struggled with long-range dependencies, attention allows direct communication between any elements in a sequence, making it incredibly powerful for tasks, such as, Language modeling, Machine translation, Document understanding."
   ]
  },
  {
   "cell_type": "markdown",
   "metadata": {},
   "source": [
    "### Exploring Our Data\n",
    "\n",
    "In his video, Andrej Karpathy derives attention from the attempt to train a language model that can generate Shakespeare-like text.\n",
    "For this he uses a corpus that holds the plays written by Shakespeare."
   ]
  },
  {
   "cell_type": "code",
   "execution_count": 1,
   "metadata": {},
   "outputs": [
    {
     "name": "stderr",
     "output_type": "stream",
     "text": [
      "  % Total    % Received % Xferd  Average Speed   Time    Time     Time  Current\n",
      "                                 Dload  Upload   Total   Spent    Left  Speed\n",
      "\n",
      "  0     0    0     0    0     0      0      0 --:--:-- --:--:-- --:--:--     0\n",
      "100 1089k  100 1089k    0     0  3805k      0 --:--:-- --:--:-- --:--:-- 3821k\n"
     ]
    }
   ],
   "source": [
    "# Download dataset to train on\n",
    "!curl.exe --output shakespeare.txt https://raw.githubusercontent.com/karpathy/char-rnn/master/data/tinyshakespeare/input.txt"
   ]
  },
  {
   "cell_type": "code",
   "execution_count": 2,
   "metadata": {},
   "outputs": [
    {
     "name": "stdout",
     "output_type": "stream",
     "text": [
      "\n",
      " !$&',-.3:;?ABCDEFGHIJKLMNOPQRSTUVWXYZabcdefghijklmnopqrstuvwxyz\n",
      "65\n"
     ]
    }
   ],
   "source": [
    "with open('shakespeare.txt', 'r', encoding='utf-8') as f:\n",
    "    text = f.read()\n",
    "    \n",
    "# unique chars \n",
    "chars = sorted(list(set(text)))\n",
    "vocab_size = len(chars)\n",
    "print(''.join(chars))\n",
    "print(vocab_size)"
   ]
  },
  {
   "cell_type": "markdown",
   "metadata": {},
   "source": [
    "### Character-Level Tokenizer\n",
    "\n",
    "From the set of unique chars we can create a simple character-level tokenizer that encodes each character to a unique identifier.\n",
    "We will use this to encode the whole dataset and create a train and validation split."
   ]
  },
  {
   "cell_type": "code",
   "execution_count": 3,
   "metadata": {},
   "outputs": [
    {
     "name": "stdout",
     "output_type": "stream",
     "text": [
      "[46, 47, 47, 1, 58, 46, 43, 56, 43]\n",
      "hii there\n"
     ]
    }
   ],
   "source": [
    "# Create in a mapping which will be used as a dummy tokenizer for character level encoding\n",
    "stoi = { ch:i for i,ch in enumerate(chars) }\n",
    "itos = { i:ch for i,ch in enumerate(chars) }\n",
    "encode = lambda s: [stoi[c] for c in s] # encoder: take a string, output a list of integers\n",
    "decode = lambda l: ''.join([itos[i] for i in l]) # decoder: take a list of integers, output a string\n",
    "\n",
    "print(encode(\"hii there\"))\n",
    "print(decode(encode(\"hii there\")))"
   ]
  },
  {
   "cell_type": "code",
   "execution_count": 4,
   "metadata": {},
   "outputs": [
    {
     "name": "stdout",
     "output_type": "stream",
     "text": [
      "torch.Size([1115394]) torch.int64\n"
     ]
    }
   ],
   "source": [
    "# Encode dataset\n",
    "import torch\n",
    "data = torch.tensor(encode(text), dtype=torch.long)\n",
    "print(data.shape, data.dtype)\n",
    "\n",
    "# Generate train and test split\n",
    "n = int(0.9*len(data))\n",
    "train_data = data[:n]\n",
    "val_data = data[n:]"
   ]
  },
  {
   "cell_type": "markdown",
   "metadata": {},
   "source": [
    "### Training Data Generation\n",
    "\n",
    "We want to train a model that can generate Shakespeare-like text. \n",
    "In machine learning terms this means autoregressive modelling, where based on an input the model should generate new text.\n",
    "\n",
    "Mathematically this can be described like this:\n",
    "P(x₁, x₂, ..., xₙ) = P(x₁) × P(x₂|x₁) × P(x₃|x₁,x₂) × ... × P(xₙ|x₁,...,xₙ₋₁)\n",
    "\n",
    "Which in essence means:\n",
    "- First, we predict the probability of the first character\n",
    "- Then, given the first character, predict the second\n",
    "- Then, given the first two characters, predict the third\n",
    "- And so on...\n",
    "\n",
    "Given this intuition let's see how we can construct training samples for this task:"
   ]
  },
  {
   "cell_type": "code",
   "execution_count": 5,
   "metadata": {},
   "outputs": [
    {
     "name": "stdout",
     "output_type": "stream",
     "text": [
      "when input is tensor([18]) try to predict: 47\n",
      "when input is tensor([18, 47]) try to predict: 56\n",
      "when input is tensor([18, 47, 56]) try to predict: 57\n",
      "when input is tensor([18, 47, 56, 57]) try to predict: 58\n",
      "when input is tensor([18, 47, 56, 57, 58]) try to predict: 1\n",
      "when input is tensor([18, 47, 56, 57, 58,  1]) try to predict: 15\n",
      "when input is tensor([18, 47, 56, 57, 58,  1, 15]) try to predict: 47\n",
      "when input is tensor([18, 47, 56, 57, 58,  1, 15, 47]) try to predict: 58\n"
     ]
    }
   ],
   "source": [
    "# The block_size determines how many text units (characters in our case) are passed in one sample, e.g. 8 in this case\n",
    "block_size = 8\n",
    "\n",
    "# We can use one sample to actually generate n = block_size - 1 samples for training\n",
    "# (This way the model learns to generate text given variable sized inputs)\n",
    "\n",
    "def describe_sample(x,y):\n",
    "    for t in range(block_size):\n",
    "        context = x[:t+1]\n",
    "        target = y[t]\n",
    "        print(f\"when input is {context} try to predict: {target}\")\n",
    "        \n",
    "x = train_data[:block_size]\n",
    "y = train_data[1:block_size+1]\n",
    "describe_sample(x,y)\n"
   ]
  },
  {
   "cell_type": "markdown",
   "metadata": {},
   "source": [
    "As was shown above we extract a snippet of n tokens from our training data and then use it to construct n training samples from it.\n",
    "This approach useful because the model should learn to generate new text not only when it is given n tokens it advance, but also when it is given tokens in the range from 1 to n (more flexibility).\n",
    "\n",
    "Further, during training we actually don't just want to pass a single sample, but train with multiple samples in parallel independently.\n",
    "So let's create a function that creates us a batch of these above samples by taking multiple random snipptes from the encoded text corpus and then preparing them in the same way as above."
   ]
  },
  {
   "cell_type": "code",
   "execution_count": 6,
   "metadata": {},
   "outputs": [],
   "source": [
    "batch_size = 4\n",
    "block_size = 8\n",
    "\n",
    "def get_batch(split):\n",
    "    data = train_data if split == 'train' else val_data\n",
    "    idxs = torch.randint(len(data) - block_size, size=(batch_size,))\n",
    "    x = torch.stack([data[i:i + block_size] for i in idxs])\n",
    "    y = torch.stack([data[i+1:i+block_size+1] for i in idxs])\n",
    "    return x,y  "
   ]
  },
  {
   "cell_type": "code",
   "execution_count": 7,
   "metadata": {},
   "outputs": [
    {
     "name": "stdout",
     "output_type": "stream",
     "text": [
      "Sample number: 0\n",
      "when input is tensor([11]) try to predict: 1\n",
      "when input is tensor([11,  1]) try to predict: 39\n",
      "when input is tensor([11,  1, 39]) try to predict: 52\n",
      "when input is tensor([11,  1, 39, 52]) try to predict: 42\n",
      "when input is tensor([11,  1, 39, 52, 42]) try to predict: 1\n",
      "when input is tensor([11,  1, 39, 52, 42,  1]) try to predict: 58\n",
      "when input is tensor([11,  1, 39, 52, 42,  1, 58]) try to predict: 46\n",
      "when input is tensor([11,  1, 39, 52, 42,  1, 58, 46]) try to predict: 43\n",
      "Sample number: 1\n",
      "when input is tensor([6]) try to predict: 1\n",
      "when input is tensor([6, 1]) try to predict: 50\n",
      "when input is tensor([ 6,  1, 50]) try to predict: 53\n",
      "when input is tensor([ 6,  1, 50, 53]) try to predict: 52\n",
      "when input is tensor([ 6,  1, 50, 53, 52]) try to predict: 45\n",
      "when input is tensor([ 6,  1, 50, 53, 52, 45]) try to predict: 1\n",
      "when input is tensor([ 6,  1, 50, 53, 52, 45,  1]) try to predict: 46\n",
      "when input is tensor([ 6,  1, 50, 53, 52, 45,  1, 46]) try to predict: 43\n",
      "Sample number: 2\n",
      "when input is tensor([50]) try to predict: 39\n",
      "when input is tensor([50, 39]) try to predict: 52\n",
      "when input is tensor([50, 39, 52]) try to predict: 11\n",
      "when input is tensor([50, 39, 52, 11]) try to predict: 1\n",
      "when input is tensor([50, 39, 52, 11,  1]) try to predict: 39\n",
      "when input is tensor([50, 39, 52, 11,  1, 39]) try to predict: 52\n",
      "when input is tensor([50, 39, 52, 11,  1, 39, 52]) try to predict: 42\n",
      "when input is tensor([50, 39, 52, 11,  1, 39, 52, 42]) try to predict: 1\n",
      "Sample number: 3\n",
      "when input is tensor([39]) try to predict: 57\n",
      "when input is tensor([39, 57]) try to predict: 49\n",
      "when input is tensor([39, 57, 49]) try to predict: 1\n",
      "when input is tensor([39, 57, 49,  1]) try to predict: 46\n",
      "when input is tensor([39, 57, 49,  1, 46]) try to predict: 47\n",
      "when input is tensor([39, 57, 49,  1, 46, 47]) try to predict: 51\n",
      "when input is tensor([39, 57, 49,  1, 46, 47, 51]) try to predict: 1\n",
      "when input is tensor([39, 57, 49,  1, 46, 47, 51,  1]) try to predict: 57\n"
     ]
    }
   ],
   "source": [
    "x_b, y_b = get_batch('train)')\n",
    "\n",
    "# Check every sample in the batch as before:\n",
    "for i, (x_s, y_s) in enumerate(zip(x_b, y_b)):\n",
    "    print(f\"Sample number: {i}\")\n",
    "    describe_sample(x_s, y_s)"
   ]
  },
  {
   "cell_type": "markdown",
   "metadata": {},
   "source": [
    "### Training a Bigram Model with this data\n",
    "\n",
    "Before diving into the complexity of the attention mechanism we will start with the simplest form of autoregressive language model: the bigram model. While it is basic, it introduces key concepts we will build upon:\n",
    "\n",
    "- How do you make preditions based on context?\n",
    "- How do you handle sequential data?\n",
    "- How do you generate text autoregressively?\n",
    "\n",
    "\n",
    "#### Let's implement a Bigram Model\n",
    "\n",
    "A bigram model makes a simplifying assumption: the next character only depends on the previous character. \n",
    "Mathematically, this means:\n",
    "P(x₁, x₂, ..., xₙ) = P(x₁) × P(x₂|x₁) × P(x₃|x₂) × ... × P(xₙ|xₙ₋₁)\n",
    "(Important: This differs from the earlier formulation where each prediction could use all previous context!)\n",
    "\n",
    "Let's implement it and the comments in the file will explain the key concepts:"
   ]
  },
  {
   "cell_type": "code",
   "execution_count": 8,
   "metadata": {},
   "outputs": [],
   "source": [
    "\n",
    "import torch.nn as nn\n",
    "from torch.nn import functional as F\n",
    "\n",
    "torch.manual_seed(1337)\n",
    "\n",
    "class BigramLanguageModel(nn.Module):\n",
    "    \n",
    "    def __init__(self, vocab_size):\n",
    "        super().__init__()\n",
    "        self.token_embedding_table = nn.Embedding(num_embeddings=vocab_size,embedding_dim=vocab_size)\n",
    "        # The embedding table is a learnable table that creates a mapping for each token into a vector of a certain dimension (C = 65 in our case)\n",
    "        # In our bigram model, these vectors represents the \"logits\" (raw scores) for\n",
    "        # predicting the next token. \n",
    "        # (Intuitively you could a character's \"preferences\" for what should follow it)\n",
    "        \n",
    "    def forward(self, inputs: torch.tensor, targets=None):\n",
    "        # inputs: (Batch, Time)\n",
    "        # outputs: (Batch, Time, Channel) where Channel = vocab_size\n",
    "        \n",
    "        # example:\n",
    "        #   inputs: \"hell\"\n",
    "        #   targets: \"ello\"\n",
    "\n",
    "        logits = self.token_embedding_table(inputs) # (B,T,C)\n",
    "        # For each position in each sequence, look up the corresponding row in the embedding table\n",
    "        # This gives us scores for what token should follow each input token\n",
    "        \n",
    "        if targets is None:\n",
    "            loss = None\n",
    "        else:\n",
    "            # Reshape for cross entropy\n",
    "            B, T, C = logits.shape\n",
    "            logits = logits.view(B*T, C)    # shape: (B*T, C)\n",
    "            targets = targets.view(B*T)      # shape: (B*T)\n",
    "            loss = F.cross_entropy(logits, targets)\n",
    "            \n",
    "        return logits, loss\n",
    "    \n",
    "    def generate(self, inputs, max_new_tokens):\n",
    "        # Generate one token at a time\n",
    "        for _ in range(max_new_tokens):\n",
    "            # Get predictions\n",
    "            logits, _ = self(inputs)  # shape: (B,T,C)\n",
    "            # For generation, we only need the predictions from the last position\n",
    "            logits = logits[:, -1 , :] # becomes (B,C)\n",
    "            # We convert scores to probabilities using softmax\n",
    "            probs = F.softmax(logits, dim=-1)  # shape: (B,C)\n",
    "            # Sample from the probability distribution to get the next token\n",
    "            inputs_next = torch.multinomial(probs, num_samples=1)  # shape: (B,1)\n",
    "            # Append the new token to our sequence\n",
    "            inputs = torch.cat((inputs, inputs_next), dim=1)  # shape: (B,T+1)\n",
    "        return inputs\n",
    "    \n",
    "model = BigramLanguageModel(vocab_size=vocab_size)"
   ]
  },
  {
   "cell_type": "code",
   "execution_count": 9,
   "metadata": {},
   "outputs": [
    {
     "name": "stdout",
     "output_type": "stream",
     "text": [
      "\n",
      "Sr?qP-QWktXoL&jLDJgOLVz'RIoDqHdhsV&vLLxatjscMpwLERSPyao.qfzs$Ys$zF-w,;eEkzxjgCKFChs!iWW.ObzDnxA Ms$3\n"
     ]
    }
   ],
   "source": [
    "# If we now generate text with the untrained model we get glibberish\n",
    "print(decode(model.generate(inputs=torch.zeros((1, 1), dtype=torch.long), max_new_tokens=100)[0].tolist()))"
   ]
  },
  {
   "cell_type": "markdown",
   "metadata": {},
   "source": [
    "#### Let's train the Bigram model\n",
    "\n",
    "We can now train the bigram model. \n",
    "As our model only consists of the embedding table what we are essentially training are each character's \"preferences\" for what character should follow, based on the shakespeare dataset."
   ]
  },
  {
   "cell_type": "code",
   "execution_count": 10,
   "metadata": {},
   "outputs": [
    {
     "name": "stderr",
     "output_type": "stream",
     "text": [
      "100%|██████████| 10000/10000 [00:09<00:00, 1097.77it/s]\n"
     ]
    }
   ],
   "source": [
    "from tqdm import tqdm\n",
    "\n",
    "optimizer = torch.optim.AdamW(model.parameters(), lr=1e-3)\n",
    "batch_size = 32\n",
    "\n",
    "# Train\n",
    "losses = []\n",
    "eval_interval = 100\n",
    "for steps in tqdm(range(10000)): # increase number of steps for good results...\n",
    "\n",
    "        # Get a batch of data\n",
    "        xb, yb = get_batch('train')\n",
    "        \n",
    "        # Evaluate loss\n",
    "        logits, loss = model(xb, yb)\n",
    "        \n",
    "        # Track loss\n",
    "        if steps % eval_interval == 0:\n",
    "            losses.append(loss.item())\n",
    "            \n",
    "        # Training step\n",
    "        optimizer.zero_grad(set_to_none=True)\n",
    "        loss.backward()\n",
    "        optimizer.step()"
   ]
  },
  {
   "cell_type": "code",
   "execution_count": 11,
   "metadata": {},
   "outputs": [
    {
     "data": {
      "text/plain": [
       "Text(0.5, 1.0, 'Bigram Model Training Progress')"
      ]
     },
     "execution_count": 11,
     "metadata": {},
     "output_type": "execute_result"
    },
    {
     "data": {
      "image/png": "[encoded data removed]",
      "text/plain": [
       "<Figure size 640x480 with 1 Axes>"
      ]
     },
     "metadata": {},
     "output_type": "display_data"
    }
   ],
   "source": [
    "import seaborn as sns\n",
    "import pandas as pd\n",
    "\n",
    "df = pd.DataFrame(data=losses)\n",
    "ax = sns.lineplot(data=df)\n",
    "\n",
    "ax.set_xlabel('Training Steps (hundreds)', fontsize=10)\n",
    "ax.set_ylabel('Cross Entropy Loss', fontsize=10)\n",
    "ax.set_title('Bigram Model Training Progress', fontsize=14, pad=15)"
   ]
  },
  {
   "cell_type": "code",
   "execution_count": 12,
   "metadata": {},
   "outputs": [
    {
     "name": "stdout",
     "output_type": "stream",
     "text": [
      "\n",
      "Iyoteng h hasbe pave pirance\n",
      "Rie hicomyonthar's\n",
      "Plinseard ith henoure wounonthioneir thondy, y heltieiengerofo'dsssit ey\n",
      "KIN d pe wither vouprrouthercc.\n",
      "hathe; d!\n",
      "My hind tt hinig t ouchos tes; st yo hind wotte grotonear 'so it t jod weancotha:\n",
      "h hay.JUCle n prids, r loncave w hollular s O:\n",
      "HIs; ht anjx?\n",
      "\n",
      "DUThinqunt.\n",
      "\n",
      "LaZAnde.\n",
      "athave l.\n",
      "KEONH:\n",
      "ARThanco be y,-hedarwnoddy scace, tridesar, wnl'shenous s ls, theresseys\n",
      "PlorseelapinghiybHen yof GLUCEN t l-t E:\n",
      "I hisgothers je are!-e!\n",
      "QLYotouciullle'z\n"
     ]
    }
   ],
   "source": [
    "print(decode(model.generate(inputs = torch.zeros((1, 1), dtype=torch.long), max_new_tokens=500)[0].tolist()))"
   ]
  },
  {
   "cell_type": "markdown",
   "metadata": {},
   "source": [
    "We can see that even a simple bigram model can pickup some characteristics of the shakespeare dataset, as for example, that after punctuation it is most likely to have a new line.\n",
    "However the generated language is still not readable. \n",
    "What is the biggest limitation here?\n",
    "\n",
    "- The bigram assumption: The model cannot use the full context it is given, but looks only at the last preceeding character\n",
    "- This motivates our next steps toward (attention) mechanisms, which will allow the model to consider all previous characters when making predictions."
   ]
  }
 ],
 "metadata": {
  "kernelspec": {
   "display_name": "hye",
   "language": "python",
   "name": "python3"
  },
  "language_info": {
   "codemirror_mode": {
    "name": "ipython",
    "version": 3
   },
   "file_extension": ".py",
   "mimetype": "text/x-python",
   "name": "python",
   "nbconvert_exporter": "python",
   "pygments_lexer": "ipython3",
   "version": "3.12.8"
  }
 },
 "nbformat": 4,
 "nbformat_minor": 2
}
