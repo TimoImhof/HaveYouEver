{
 "cells": [
  {
   "cell_type": "code",
   "execution_count": 1,
   "metadata": {},
   "outputs": [],
   "source": [
    "# How can we improve the simple Bigram model?\n",
    "# Currently, we are predicting the next token only based on the token which is diretly preceeding.\n",
    "\n",
    "# How can we make predictions based on all past tokens?\n",
    "\n",
    "import torch, numpy\n",
    "import torch.nn.functional as F\n",
    "import torch.nn as nn\n",
    "torch.manual_seed(1337)\n",
    "B,T,C = 4,8,2 # batch, time, channels\n",
    "x = torch.randn(B,T,C)"
   ]
  },
  {
   "cell_type": "code",
   "execution_count": 2,
   "metadata": {},
   "outputs": [
    {
     "data": {
      "text/plain": [
       "torch.Size([4, 8, 2])"
      ]
     },
     "execution_count": 2,
     "metadata": {},
     "output_type": "execute_result"
    }
   ],
   "source": [
    "x.shape"
   ]
  },
  {
   "cell_type": "code",
   "execution_count": 3,
   "metadata": {},
   "outputs": [],
   "source": [
    "# Short insertion about attention in decoder-like models:\n",
    "# For attention in decoder like models we have to take into account that when we perform attention we do masked self-attention.\n",
    "\n",
    "# Why is that?\n",
    "# When generating new tokens from a given input sequence the model can only use the past tokens (the input) as reference for deciding what the next token should be\n",
    "# So we have to mimic this behavior during training; concretely this means that for predicting a token at timestep t the model is only allowed to \"attend\" to the tokens from position 0 up to t - 1\n",
    "\n",
    "# As demonstrated in this file when we train a decoder we can turn one sample of k tokens into k-1 samples by using all the subsequences, so \n",
    "# (input: t_0, label: t_1), (input: t_0, t_1), label: t_2), ... \n",
    "\n",
    "# => Information only flows from previous tokens to the current timestamp, and we cannot get any information from the future, as we try to predict it"
   ]
  },
  {
   "cell_type": "code",
   "execution_count": 4,
   "metadata": {},
   "outputs": [],
   "source": [
    "# How can you make tokens \"attend\" to each other?\n",
    "\n",
    "# The easiest way to do so is performing an average over a set of tokens, which means we get the averaged information from all the tokens\n",
    "x_avg = torch.zeros_like(x)\n",
    "\n",
    "# batch dimension\n",
    "for b in range(B):\n",
    "    # time dimension of one sample\n",
    "    for t in range(T):\n",
    "        x_prev = x[b, :t+1]\n",
    "        x_avg[b,t] = torch.mean(x_prev,0)\n",
    "               \n",
    "# This code snippet essentially did that for every time dimension in every sample in every batch "
   ]
  },
  {
   "cell_type": "code",
   "execution_count": 5,
   "metadata": {},
   "outputs": [],
   "source": [
    "# There is a mathematical trick how to make the above computation very efficient through matrix multiplication\n",
    "\n",
    "torch.manual_seed(42)\n",
    "a = torch.ones(3,3)\n",
    "b = torch.randint(0,10,(3,2)).float()"
   ]
  },
  {
   "cell_type": "code",
   "execution_count": 6,
   "metadata": {},
   "outputs": [
    {
     "name": "stdout",
     "output_type": "stream",
     "text": [
      "A:\n",
      "tensor([[1., 1., 1.],\n",
      "        [1., 1., 1.],\n",
      "        [1., 1., 1.]])\n",
      "B:\n",
      "tensor([[2., 7.],\n",
      "        [6., 4.],\n",
      "        [6., 5.]])\n",
      "C:\n",
      "tensor([[14., 16.],\n",
      "        [14., 16.],\n",
      "        [14., 16.]])\n"
     ]
    }
   ],
   "source": [
    "print(f\"A:\\n{a}\\nB:\\n{b}\")\n",
    "c = a @ b # @ = matrix multiplication (https://en.wikipedia.org/wiki/Matrix_multiplication)\n",
    "print(f\"C:\\n{c}\")"
   ]
  },
  {
   "cell_type": "code",
   "execution_count": 7,
   "metadata": {},
   "outputs": [
    {
     "name": "stdout",
     "output_type": "stream",
     "text": [
      "C:\n",
      "tensor([[ 2.,  7.],\n",
      "        [ 8., 11.],\n",
      "        [14., 16.]])\n",
      "B:\n",
      "tensor([[2., 7.],\n",
      "        [6., 4.],\n",
      "        [6., 5.]])\n"
     ]
    }
   ],
   "source": [
    "# Instead of standard matrix multiplication what one can do is perform row-wise summation of the second matrix B. For this we use torch.tril which gives us a lower triangular matrix.\n",
    "a_triangular = torch.tril(a)\n",
    "\n",
    "c = a_triangular @ b\n",
    "print(f\"C:\\n{c}\")\n",
    "\n",
    "# Imagine B being our sample of tokens (2 in this case) and what happend below is that in matrix C we performed row wise addition of matrix B.\n",
    "\n",
    "print(f\"B:\\n{b}\")"
   ]
  },
  {
   "cell_type": "code",
   "execution_count": 8,
   "metadata": {},
   "outputs": [
    {
     "data": {
      "text/plain": [
       "tensor([[1.0000, 0.0000, 0.0000],\n",
       "        [0.5000, 0.5000, 0.0000],\n",
       "        [0.3333, 0.3333, 0.3333]])"
      ]
     },
     "execution_count": 8,
     "metadata": {},
     "output_type": "execute_result"
    }
   ],
   "source": [
    "# We can spin this further and instead of peforming just row wise addition we perform row wise averaging!\n",
    "# For that we manipulate the lower triangular matrix:\n",
    "\n",
    "a_triangular_average = a_triangular / torch.sum(a_triangular, 1, keepdim=True)\n",
    "a_triangular_average"
   ]
  },
  {
   "cell_type": "code",
   "execution_count": 9,
   "metadata": {},
   "outputs": [
    {
     "data": {
      "text/plain": [
       "tensor([[2.0000, 7.0000],\n",
       "        [4.0000, 5.5000],\n",
       "        [4.6667, 5.3333]])"
      ]
     },
     "execution_count": 9,
     "metadata": {},
     "output_type": "execute_result"
    }
   ],
   "source": [
    "# And now we obtain a row-wise average\n",
    "c = a_triangular_average @ b\n",
    "c"
   ]
  },
  {
   "cell_type": "code",
   "execution_count": 10,
   "metadata": {},
   "outputs": [],
   "source": [
    "# We use this principle to simplify our double for-loop attention mechanism from the beginning:"
   ]
  },
  {
   "cell_type": "code",
   "execution_count": 11,
   "metadata": {},
   "outputs": [
    {
     "name": "stdout",
     "output_type": "stream",
     "text": [
      "tensor([[ 0.1808, -0.0700],\n",
      "        [-0.0894, -0.4926],\n",
      "        [ 0.1490, -0.3199],\n",
      "        [ 0.3504, -0.2238],\n",
      "        [ 0.3525,  0.0545],\n",
      "        [ 0.0688, -0.0396],\n",
      "        [ 0.0927, -0.0682],\n",
      "        [-0.0341,  0.1332]])\n",
      "tensor([[ 0.1808, -0.0700],\n",
      "        [-0.0894, -0.4926],\n",
      "        [ 0.1490, -0.3199],\n",
      "        [ 0.3504, -0.2238],\n",
      "        [ 0.3525,  0.0545],\n",
      "        [ 0.0688, -0.0396],\n",
      "        [ 0.0927, -0.0682],\n",
      "        [-0.0341,  0.1332]])\n"
     ]
    },
    {
     "data": {
      "text/plain": [
       "True"
      ]
     },
     "execution_count": 11,
     "metadata": {},
     "output_type": "execute_result"
    }
   ],
   "source": [
    "x_avg = torch.zeros_like(x)\n",
    "\n",
    "# Naive implementation of attention\n",
    "\n",
    "# batch dimension\n",
    "for b in range(B):\n",
    "    # time dimension of one sample\n",
    "    for t in range(T):\n",
    "        x_prev = x[b, :t+1]\n",
    "        x_avg[b,t] = torch.mean(x_prev,0)\n",
    "\n",
    "\n",
    "# Optimized implementation with matrix multiplication\n",
    "\n",
    "W = torch.tril(torch.ones(size=(T,T)))\n",
    "W = W / torch.sum(W, 1, keepdim=True)\n",
    "\n",
    "out = W @ x  # shape: (B,T,T) @ (B,T,C) | The shape of W is automatically broadcasted to batch dimension\n",
    "\n",
    "print(x_avg[0])\n",
    "print(out[0])\n",
    "torch.allclose(x_avg, out, atol=1e-07)"
   ]
  },
  {
   "cell_type": "code",
   "execution_count": 12,
   "metadata": {},
   "outputs": [
    {
     "data": {
      "text/plain": [
       "tensor([[0., -inf, -inf, -inf, -inf, -inf, -inf, -inf],\n",
       "        [0., 0., -inf, -inf, -inf, -inf, -inf, -inf],\n",
       "        [0., 0., 0., -inf, -inf, -inf, -inf, -inf],\n",
       "        [0., 0., 0., 0., -inf, -inf, -inf, -inf],\n",
       "        [0., 0., 0., 0., 0., -inf, -inf, -inf],\n",
       "        [0., 0., 0., 0., 0., 0., -inf, -inf],\n",
       "        [0., 0., 0., 0., 0., 0., 0., -inf],\n",
       "        [0., 0., 0., 0., 0., 0., 0., 0.]])"
      ]
     },
     "execution_count": 12,
     "metadata": {},
     "output_type": "execute_result"
    }
   ],
   "source": [
    "# Alternative Version: Using Softmax to create the percentages of contribution of each token\n",
    "\n",
    "tril = torch.tril(torch.ones(size=(T,T)))\n",
    "W = torch.zeros((T,T))\n",
    "W = W.masked_fill(tril == 0, float('-inf'))\n",
    "W"
   ]
  },
  {
   "cell_type": "code",
   "execution_count": 13,
   "metadata": {},
   "outputs": [
    {
     "data": {
      "text/plain": [
       "tensor([[1.0000, 0.0000, 0.0000, 0.0000, 0.0000, 0.0000, 0.0000, 0.0000],\n",
       "        [0.5000, 0.5000, 0.0000, 0.0000, 0.0000, 0.0000, 0.0000, 0.0000],\n",
       "        [0.3333, 0.3333, 0.3333, 0.0000, 0.0000, 0.0000, 0.0000, 0.0000],\n",
       "        [0.2500, 0.2500, 0.2500, 0.2500, 0.0000, 0.0000, 0.0000, 0.0000],\n",
       "        [0.2000, 0.2000, 0.2000, 0.2000, 0.2000, 0.0000, 0.0000, 0.0000],\n",
       "        [0.1667, 0.1667, 0.1667, 0.1667, 0.1667, 0.1667, 0.0000, 0.0000],\n",
       "        [0.1429, 0.1429, 0.1429, 0.1429, 0.1429, 0.1429, 0.1429, 0.0000],\n",
       "        [0.1250, 0.1250, 0.1250, 0.1250, 0.1250, 0.1250, 0.1250, 0.1250]])"
      ]
     },
     "execution_count": 13,
     "metadata": {},
     "output_type": "execute_result"
    }
   ],
   "source": [
    "# Now if we apply row-wise softmax we obtain the same weight matrix W as before\n",
    "W = F.softmax(W, dim=-1)\n",
    "W"
   ]
  },
  {
   "cell_type": "code",
   "execution_count": 14,
   "metadata": {},
   "outputs": [],
   "source": [
    "# We achieved now that we can peform predictions about the next token based on the information of all passed tokens (inside a certain window size).\n",
    "# However this can still be improved:\n",
    "\n",
    "# The problem with this dummy interpretation of attention is that the affinities between the tokens are hardcoded.\n",
    "# Each token contributes the exact same amount to predicting the next token (uniform distribution).\n",
    "\n",
    "# However: we want this to be data dependent; information that we gather from the past naturally is not equally important for different future tokens.\n",
    "# Therefore, we can improve by LEARNING these affinities between tokens\n",
    "# (learn the amount of contribution each past token has for the prediction)."
   ]
  },
  {
   "cell_type": "code",
   "execution_count": 15,
   "metadata": {},
   "outputs": [],
   "source": [
    "# Self-attention solves this problem of learning affinities by creating multiple learned representation of the input tokens.\n",
    "# 1. Query: \"What am I looking for?\" (intuition)\n",
    "# 2. Key: \"What do I contain?\" (intuition)\n",
    "\n",
    "# The affinities between the tokens are then computed by performing the dot product of the query and key token representations!\n",
    "\n",
    "# Concretely for one token: One query (one \"What am I looking for\" token representation) peforms a dot product with the key representation (\"What do I contain/can offer\" representation) of every other token.\n",
    "# Which quantifies the affinity of all other tokens to this token. (And then this mechanism is done for every token (every query)!)"
   ]
  },
  {
   "cell_type": "code",
   "execution_count": 16,
   "metadata": {},
   "outputs": [
    {
     "name": "stdout",
     "output_type": "stream",
     "text": [
      "Key representation: torch.Size([4, 8, 16])\n",
      "Query representation: torch.Size([4, 8, 16])\n"
     ]
    }
   ],
   "source": [
    "\n",
    "# Sketch of a single attention head\n",
    "torch.manual_seed(1337)\n",
    "\n",
    "B,T,C = 4,8,32 # batch, time, channels per token\n",
    "inputs = torch.randn(B,T,C) # input of the attention head\n",
    "\n",
    "head_size = 16 # channel dimension of the key, query representations of the input\n",
    "key_repr = nn.Linear(C, head_size, bias=False)\n",
    "query_repr = nn.Linear(C, head_size, bias=False)\n",
    "\n",
    "# creating the key and query representations:\n",
    "k = key_repr(inputs)\n",
    "q = query_repr(inputs)\n",
    "\n",
    "print(f\"Key representation: {k.shape}\")\n",
    "print(f\"Query representation: {q.shape}\")"
   ]
  },
  {
   "cell_type": "code",
   "execution_count": 17,
   "metadata": {},
   "outputs": [
    {
     "name": "stdout",
     "output_type": "stream",
     "text": [
      "W.shape: torch.Size([4, 8, 8])\n"
     ]
    },
    {
     "data": {
      "text/plain": [
       "tensor([[1.0000, 0.0000, 0.0000, 0.0000, 0.0000, 0.0000, 0.0000, 0.0000],\n",
       "        [0.1574, 0.8426, 0.0000, 0.0000, 0.0000, 0.0000, 0.0000, 0.0000],\n",
       "        [0.2088, 0.1646, 0.6266, 0.0000, 0.0000, 0.0000, 0.0000, 0.0000],\n",
       "        [0.5792, 0.1187, 0.1889, 0.1131, 0.0000, 0.0000, 0.0000, 0.0000],\n",
       "        [0.0294, 0.1052, 0.0469, 0.0276, 0.7909, 0.0000, 0.0000, 0.0000],\n",
       "        [0.0176, 0.2689, 0.0215, 0.0089, 0.6812, 0.0019, 0.0000, 0.0000],\n",
       "        [0.1691, 0.4066, 0.0438, 0.0416, 0.1048, 0.2012, 0.0329, 0.0000],\n",
       "        [0.0210, 0.0843, 0.0555, 0.2297, 0.0573, 0.0709, 0.2423, 0.2391]],\n",
       "       grad_fn=<SelectBackward0>)"
      ]
     },
     "execution_count": 17,
     "metadata": {},
     "output_type": "execute_result"
    }
   ],
   "source": [
    "# For computing our learned W we have to compute now the dot product of every query with every key, \n",
    "# which can again be effectively done with (you guessed it) matrix multiplication!\n",
    "\n",
    "W = q @ k.transpose(-2,-1)  # (B,T,16) @ (B,16,T) --> (B,T,T)\n",
    "print(f\"W.shape: {W.shape}\")\n",
    "\n",
    "# Now because we are still discussing masked self-attention (decoder style model) we have to perform the masking again\n",
    "# The reason is the same as before: We don't want to use information from future tokens\n",
    "tril = torch.tril(torch.ones(T,T))\n",
    "W = W.masked_fill(tril == 0, float('-inf'))\n",
    "W = F.softmax(W, dim=-1)\n",
    "\n",
    "W[0]"
   ]
  },
  {
   "cell_type": "code",
   "execution_count": 18,
   "metadata": {},
   "outputs": [
    {
     "name": "stdout",
     "output_type": "stream",
     "text": [
      "Output.shape: torch.Size([4, 8, 16])\n"
     ]
    },
    {
     "data": {
      "text/plain": [
       "tensor([[-0.1571,  0.8801,  0.1615, -0.7824, -0.1429,  0.7468,  0.1007, -0.5239,\n",
       "         -0.8873,  0.1907,  0.1762, -0.5943, -0.4812, -0.4860,  0.2862,  0.5710],\n",
       "        [ 0.6764, -0.5477, -0.2478,  0.3143, -0.1280, -0.2952, -0.4296, -0.1089,\n",
       "         -0.0493,  0.7268,  0.7130, -0.1164,  0.3266,  0.3431, -0.0710,  1.2716],\n",
       "        [ 0.4823, -0.1069, -0.4055,  0.1770,  0.1581, -0.1697,  0.0162,  0.0215,\n",
       "         -0.2490, -0.3773,  0.2787,  0.1629, -0.2895, -0.0676, -0.1416,  1.2194],\n",
       "        [ 0.1971,  0.2856, -0.1303, -0.2655,  0.0668,  0.1954,  0.0281, -0.2451,\n",
       "         -0.4647,  0.0693,  0.1528, -0.2032, -0.2479, -0.1621,  0.1947,  0.7678],\n",
       "        [ 0.2510,  0.7346,  0.5939,  0.2516,  0.2606,  0.7582,  0.5595,  0.3539,\n",
       "         -0.5934, -1.0807, -0.3111, -0.2781, -0.9054,  0.1318, -0.1382,  0.6371],\n",
       "        [ 0.3428,  0.4960,  0.4725,  0.3028,  0.1844,  0.5814,  0.3824,  0.2952,\n",
       "         -0.4897, -0.7705, -0.1172, -0.2541, -0.6892,  0.1979, -0.1513,  0.7666],\n",
       "        [ 0.1866, -0.0964, -0.1430,  0.3059,  0.0834, -0.0069, -0.2047, -0.1535,\n",
       "         -0.0762,  0.3269,  0.3090,  0.0766,  0.0992,  0.1656,  0.1975,  0.7625],\n",
       "        [ 0.1301, -0.0328, -0.4965,  0.2865,  0.2704, -0.2636, -0.0738,  0.3786,\n",
       "          0.0746,  0.0338,  0.0147,  0.3194,  0.2993, -0.1653, -0.0386,  0.3375]],\n",
       "       grad_fn=<SelectBackward0>)"
      ]
     },
     "execution_count": 18,
     "metadata": {},
     "output_type": "execute_result"
    }
   ],
   "source": [
    "# After computing the affinities there is an additional learned representation: the value\n",
    "value_repr = nn.Linear(C, head_size, bias=False)\n",
    "v = value_repr(inputs)\n",
    "\n",
    "# This representation is multiplied with the computed affinities with the following intuition:\n",
    "# \"If you find me interesting (determined by the weight matrix W, computed through key and query representations), \n",
    "# here is what I will communicate to you!\"\n",
    "\n",
    "output = W @ v\n",
    "print(f\"Output.shape: {output.shape}\")\n",
    "output[0]"
   ]
  },
  {
   "cell_type": "markdown",
   "metadata": {},
   "source": [
    "Notes (directly taken from [here](https://colab.research.google.com/drive/1JMLa53HDuA-i7ZBmqV7ZnA3c_fvtXnx-?usp=sharing#scrollTo=M5CvobiQ0pLr)):\n",
    "- Attention is a **communication mechanism**. Can be seen as nodes in a directed graph looking at each other and aggregating information with a weighted sum from all nodes that point to them, with data-dependent weights.\n",
    "- There is no notion of space. Attention simply acts over a set of vectors. This is why we need to positionally encode tokens.\n",
    "- Each example across batch dimension is of course processed completely independently and never \"talk\" to each other\n",
    "- In an \"encoder\" attention block just delete the single line that does masking with `tril`, allowing all tokens to communicate. This block here is called a \"decoder\" attention block because it has triangular masking, and is usually used in autoregressive settings, like language modeling.\n",
    "- \"self-attention\" just means that the keys and values are produced from the same source as queries. In \"cross-attention\", the queries still get produced from x, but the keys and values come from some other, external source (e.g. an encoder module)\n",
    "- \"Scaled\" attention additional divides `W` by 1/sqrt(head_size). This makes it so when input Q,K are unit variance, W will be unit variance too and Softmax will stay diffuse and not saturate too much."
   ]
  },
  {
   "cell_type": "markdown",
   "metadata": {},
   "source": []
  }
 ],
 "metadata": {
  "kernelspec": {
   "display_name": "HaveYouEver",
   "language": "python",
   "name": "python3"
  },
  "language_info": {
   "codemirror_mode": {
    "name": "ipython",
    "version": 3
   },
   "file_extension": ".py",
   "mimetype": "text/x-python",
   "name": "python",
   "nbconvert_exporter": "python",
   "pygments_lexer": "ipython3",
   "version": "3.12.8"
  }
 },
 "nbformat": 4,
 "nbformat_minor": 2
}
