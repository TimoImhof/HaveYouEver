{
 "cells": [
  {
   "cell_type": "code",
   "execution_count": 35,
   "metadata": {},
   "outputs": [],
   "source": [
    "# Making the tokens speak to each other through attention\n",
    "\n",
    "import torch, numpy\n",
    "torch.manual_seed(1337)\n",
    "B,T,C = 4,8,2 # batch, time, channels\n",
    "x = torch.randn(B,T,C)"
   ]
  },
  {
   "cell_type": "code",
   "execution_count": 36,
   "metadata": {},
   "outputs": [
    {
     "data": {
      "text/plain": [
       "torch.Size([4, 8, 2])"
      ]
     },
     "execution_count": 36,
     "metadata": {},
     "output_type": "execute_result"
    }
   ],
   "source": [
    "x.shape"
   ]
  },
  {
   "cell_type": "code",
   "execution_count": 37,
   "metadata": {},
   "outputs": [],
   "source": [
    "# For attention in decoder like models we have to take into account that when we perform attention we do masked self-attention.\n",
    "\n",
    "# Why is that?\n",
    "# When generating new tokens from a given input sequence the model can only use the past tokens (the input) as reference for deciding what the next token should be\n",
    "# So we have to mimic this behavior during training; concretely this means that a for predicting a token at timestep t the model is only allowed to \"attend\" to the tokens from position 0 up to t - 1\n",
    "\n",
    "# As demonstrated in this file when we train a decoder we can turn one sample of k tokens into k-1 samples by using all the subsequences, so \n",
    "# (input: t_0, label: t_1), (input: t_0, t_1), label: t_2), ... \n",
    "\n",
    "# => Information only flows from previous tokens to the current timestamp, and we cannot get any information from the future, as we try to predict it"
   ]
  },
  {
   "cell_type": "code",
   "execution_count": 38,
   "metadata": {},
   "outputs": [],
   "source": [
    "# How can you make tokens \"attend\" to each other?\n",
    "\n",
    "# The easiest way to do so is performing an average over a set of tokens, which means we get the averaged information from all the tokens\n",
    "x_avg = torch.zeros_like(x)\n",
    "\n",
    "# batch dimension\n",
    "for b in range(B):\n",
    "    # time dimension of one sample\n",
    "    for t in range(T):\n",
    "        x_prev = x[b, :t+1]\n",
    "        x_avg[b,t] = torch.mean(x_prev,0)\n",
    "               \n",
    "# This code snippet essentially did that for every time dimension in every sample in every batch "
   ]
  },
  {
   "cell_type": "code",
   "execution_count": 39,
   "metadata": {},
   "outputs": [],
   "source": [
    "# There is a mathematical trick how to make the above computation very efficient through matrix multiplication\n",
    "\n",
    "torch.manual_seed(42)\n",
    "a = torch.ones(3,3)\n",
    "b = torch.randint(0,10,(3,2)).float()"
   ]
  },
  {
   "cell_type": "code",
   "execution_count": 40,
   "metadata": {},
   "outputs": [
    {
     "name": "stdout",
     "output_type": "stream",
     "text": [
      "A:\n",
      "tensor([[1., 1., 1.],\n",
      "        [1., 1., 1.],\n",
      "        [1., 1., 1.]])\n",
      "B:\n",
      "tensor([[2., 7.],\n",
      "        [6., 4.],\n",
      "        [6., 5.]])\n",
      "C:\n",
      "tensor([[14., 16.],\n",
      "        [14., 16.],\n",
      "        [14., 16.]])\n"
     ]
    }
   ],
   "source": [
    "print(f\"A:\\n{a}\\nB:\\n{b}\")\n",
    "c = a @ b # @ = matrix multiplication (https://en.wikipedia.org/wiki/Matrix_multiplication)\n",
    "print(f\"C:\\n{c}\")"
   ]
  },
  {
   "cell_type": "code",
   "execution_count": 41,
   "metadata": {},
   "outputs": [
    {
     "name": "stdout",
     "output_type": "stream",
     "text": [
      "C:\n",
      "tensor([[ 2.,  7.],\n",
      "        [ 8., 11.],\n",
      "        [14., 16.]])\n",
      "B:\n",
      "tensor([[2., 7.],\n",
      "        [6., 4.],\n",
      "        [6., 5.]])\n"
     ]
    }
   ],
   "source": [
    "# Instead of standard matrix multiplication what one can do is perform row-wise summation of the second matrix B. For this we use torch.tril which gives us a lower triangular matrix.\n",
    "a_triangular = torch.tril(a)\n",
    "\n",
    "c = a_triangular @ b\n",
    "print(f\"C:\\n{c}\")\n",
    "\n",
    "# Imagine B being our sample of tokens (2 in this case) and what happend below is that in matrix C we performed row wise addition of matrix B.\n",
    "\n",
    "print(f\"B:\\n{b}\")"
   ]
  },
  {
   "cell_type": "code",
   "execution_count": 42,
   "metadata": {},
   "outputs": [
    {
     "data": {
      "text/plain": [
       "tensor([[1.0000, 0.0000, 0.0000],\n",
       "        [0.5000, 0.5000, 0.0000],\n",
       "        [0.3333, 0.3333, 0.3333]])"
      ]
     },
     "execution_count": 42,
     "metadata": {},
     "output_type": "execute_result"
    }
   ],
   "source": [
    "# We can spin this further and instead of peforming just row wise addition we perform row wise averaging!\n",
    "# For that we manipulate the lower triangular matrix:\n",
    "\n",
    "a_triangular_average = a_triangular / torch.sum(a_triangular, 1, keepdim=True)\n",
    "a_triangular_average"
   ]
  },
  {
   "cell_type": "code",
   "execution_count": 44,
   "metadata": {},
   "outputs": [
    {
     "data": {
      "text/plain": [
       "tensor([[2.0000, 7.0000],\n",
       "        [4.0000, 5.5000],\n",
       "        [4.6667, 5.3333]])"
      ]
     },
     "execution_count": 44,
     "metadata": {},
     "output_type": "execute_result"
    }
   ],
   "source": [
    "# And now we obtain a row-wise average\n",
    "c = a_triangular_average @ b\n",
    "c"
   ]
  },
  {
   "cell_type": "code",
   "execution_count": 45,
   "metadata": {},
   "outputs": [],
   "source": [
    "# We use this principle to simplify our double for-loop attention mechanism from the beginning:"
   ]
  },
  {
   "cell_type": "code",
   "execution_count": 55,
   "metadata": {},
   "outputs": [
    {
     "name": "stdout",
     "output_type": "stream",
     "text": [
      "Naive impl: tensor([[ 0.1808, -0.0700],\n",
      "        [-0.0894, -0.4926],\n",
      "        [ 0.1490, -0.3199],\n",
      "        [ 0.3504, -0.2238],\n",
      "        [ 0.3525,  0.0545],\n",
      "        [ 0.0688, -0.0396],\n",
      "        [ 0.0927, -0.0682],\n",
      "        [-0.0341,  0.1332]])\n",
      "Optimized impl: tensor([[ 0.1808, -0.0700],\n",
      "        [-0.0894, -0.4926],\n",
      "        [ 0.1490, -0.3199],\n",
      "        [ 0.3504, -0.2238],\n",
      "        [ 0.3525,  0.0545],\n",
      "        [ 0.0688, -0.0396],\n",
      "        [ 0.0927, -0.0682],\n",
      "        [-0.0341,  0.1332]])\n"
     ]
    }
   ],
   "source": [
    "x_avg = torch.zeros_like(x)\n",
    "\n",
    "# Naive implementation of attention\n",
    "\n",
    "# batch dimension\n",
    "for b in range(B):\n",
    "    # time dimension of one sample\n",
    "    for t in range(T):\n",
    "        x_prev = x[b, :t+1]\n",
    "        x_avg[b,t] = torch.mean(x_prev,0)\n",
    "\n",
    "print(f\"Naive impl: {x_avg[0]}\")\n",
    "\n",
    "# Optimized implementation with matrix multiplication\n",
    "\n",
    "W = torch.tril(torch.ones(size=(T,T)))\n",
    "W = W / torch.sum(W, 1, keepdim=True)\n",
    "\n",
    "out = W @ x  # shape: (B,T,T) @ (B,T,C) | The shape of W is automatically broadcasted to batch dimension\n",
    "print(f\"Optimized impl: {out[0]}\")"
   ]
  }
 ],
 "metadata": {
  "kernelspec": {
   "display_name": "hye",
   "language": "python",
   "name": "python3"
  },
  "language_info": {
   "codemirror_mode": {
    "name": "ipython",
    "version": 3
   },
   "file_extension": ".py",
   "mimetype": "text/x-python",
   "name": "python",
   "nbconvert_exporter": "python",
   "pygments_lexer": "ipython3",
   "version": "3.12.8"
  }
 },
 "nbformat": 4,
 "nbformat_minor": 2
}
